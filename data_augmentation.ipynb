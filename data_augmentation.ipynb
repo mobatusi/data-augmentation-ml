{
 "cells": [
  {
   "cell_type": "code",
   "execution_count": null,
   "id": "0b634caa",
   "metadata": {},
   "outputs": [],
   "source": [
    "# !pip3 uninstall -y tensorflow tensorflow-gpu && pip3 install tensorflow"
   ]
  },
  {
   "cell_type": "code",
   "execution_count": 4,
   "id": "65af78a4",
   "metadata": {},
   "outputs": [],
   "source": [
    "# imports\n",
    "%matplotlib inline\n",
    "import numpy as np\n",
    "import cv2\n",
    "import matplotlib.pyplot as plt\n",
    "\n",
    "# import imgaug as ia\n",
    "import imgaug.augmenters as iaa\n",
    "\n",
    "from matplotlib import image as show\n",
    "import matplotlib.pyplot as plt\n",
    "import numpy as np\n",
    "\n",
    "import random \n",
    "\n",
    "import matplotlib.gridspec as gridspec\n",
    "\n",
    "import tensorflow as tf\n",
    "from tensorflow.keras.preprocessing.image import apply_affine_transform\n",
    "from tensorflow.keras.preprocessing.image import ImageDataGenerator"
   ]
  },
  {
   "cell_type": "markdown",
   "id": "14a8f3af",
   "metadata": {},
   "source": [
    "## Task 1: Load Dataset"
   ]
  },
  {
   "cell_type": "code",
   "execution_count": 7,
   "id": "3c52e7de",
   "metadata": {},
   "outputs": [],
   "source": [
    "# Load the image 1.jpeg\n",
    "img = cv2.imread('./Coco/1.jpeg')\n",
    "# Convert BGR to RGB\n",
    "img = cv2.cvtColor(img, cv2.COLOR_BGR2RGB)\n"
   ]
  },
  {
   "cell_type": "code",
   "execution_count": 8,
   "id": "678e9ad7",
   "metadata": {},
   "outputs": [],
   "source": [
    "# Load the image dataset\n",
    "# Create empty list to store images\n",
    "coco = []\n",
    "\n",
    "# Load and resize all 10 images\n",
    "for i in range(1, 11):\n",
    "    # Read image in BGR\n",
    "    image = cv2.imread(f'./Coco/{i}.jpeg')\n",
    "    \n",
    "    # Convert BGR to RGB\n",
    "    image = cv2.cvtColor(image, cv2.COLOR_BGR2RGB)\n",
    "    \n",
    "    # Resize to 100x100\n",
    "    resized = cv2.resize(image, (100, 100))\n",
    "    \n",
    "    # Add to list\n",
    "    coco.append(resized)\n"
   ]
  },
  {
   "cell_type": "markdown",
   "id": "24e1aa2c",
   "metadata": {},
   "source": [
    "## Task 2: Translate\n"
   ]
  },
  {
   "cell_type": "code",
   "execution_count": null,
   "id": "91a7a338",
   "metadata": {},
   "outputs": [],
   "source": [
    "# Translate img\n"
   ]
  },
  {
   "cell_type": "markdown",
   "id": "4e885fd2",
   "metadata": {},
   "source": [
    "## Task 3: Rotation and Scaling"
   ]
  },
  {
   "cell_type": "code",
   "execution_count": null,
   "id": "61159e2c",
   "metadata": {},
   "outputs": [],
   "source": [
    "## Apply rotating and scaling\n"
   ]
  },
  {
   "cell_type": "markdown",
   "id": "debf5524",
   "metadata": {},
   "source": [
    "## Task 4: Perspective Transformation"
   ]
  },
  {
   "cell_type": "code",
   "execution_count": null,
   "id": "36603be4",
   "metadata": {},
   "outputs": [],
   "source": [
    "# Change perspective\n"
   ]
  },
  {
   "cell_type": "markdown",
   "id": "572cd7be",
   "metadata": {},
   "source": [
    "## Task 5: Affine transformations\n"
   ]
  },
  {
   "cell_type": "code",
   "execution_count": null,
   "id": "29157069",
   "metadata": {},
   "outputs": [],
   "source": [
    "# Apply affine transformations\n"
   ]
  },
  {
   "cell_type": "markdown",
   "id": "e47e5a30",
   "metadata": {},
   "source": [
    "## Task 6: Batch Transformations\n"
   ]
  },
  {
   "cell_type": "code",
   "execution_count": null,
   "id": "e1328493",
   "metadata": {},
   "outputs": [],
   "source": [
    "# Apply transformations to a batch of images\n"
   ]
  },
  {
   "cell_type": "markdown",
   "id": "67bf8e18",
   "metadata": {},
   "source": [
    "## Task 7: Sequential\n"
   ]
  },
  {
   "cell_type": "code",
   "execution_count": null,
   "id": "861a7ea6",
   "metadata": {},
   "outputs": [],
   "source": [
    "# Make a data augmentation pipeline\n"
   ]
  },
  {
   "cell_type": "code",
   "execution_count": null,
   "id": "cf49dc4e",
   "metadata": {},
   "outputs": [],
   "source": [
    "# Visualize the transformed images\n"
   ]
  },
  {
   "cell_type": "markdown",
   "id": "51763c9f",
   "metadata": {},
   "source": [
    "## Task 8: Add Randomness"
   ]
  },
  {
   "cell_type": "code",
   "execution_count": null,
   "id": "9aca785e",
   "metadata": {},
   "outputs": [],
   "source": [
    "# Add randomness\n"
   ]
  },
  {
   "cell_type": "code",
   "execution_count": null,
   "id": "9118a8ed",
   "metadata": {},
   "outputs": [],
   "source": [
    "# Visualize the transformed images\n"
   ]
  },
  {
   "cell_type": "markdown",
   "id": "89fd491f",
   "metadata": {},
   "source": [
    "## Task 9: Image Augmentation"
   ]
  },
  {
   "cell_type": "code",
   "execution_count": null,
   "id": "993361a5",
   "metadata": {},
   "outputs": [],
   "source": [
    "# Add affine transformations\n"
   ]
  },
  {
   "cell_type": "code",
   "execution_count": null,
   "id": "b54105d3",
   "metadata": {},
   "outputs": [],
   "source": [
    "# Visualize the transformed images\n"
   ]
  }
 ],
 "metadata": {
  "kernelspec": {
   "display_name": "educative",
   "language": "python",
   "name": "python3"
  },
  "language_info": {
   "codemirror_mode": {
    "name": "ipython",
    "version": 3
   },
   "file_extension": ".py",
   "mimetype": "text/x-python",
   "name": "python",
   "nbconvert_exporter": "python",
   "pygments_lexer": "ipython3",
   "version": "3.9.20"
  }
 },
 "nbformat": 4,
 "nbformat_minor": 5
}
